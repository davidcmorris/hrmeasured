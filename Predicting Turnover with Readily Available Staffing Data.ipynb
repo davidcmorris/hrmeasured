{
 "cells": [
  {
   "cell_type": "markdown",
   "metadata": {},
   "source": [
    "# Predicting Turnover with Readily Available Staffing Data\n",
    "## Intro\n",
    "Employee turnover is one of the most heavily measured and studied area in Human Resources.  Years ago, I attended a conference where a data scientist took a big data approach and developed an algorithm to predict how likely employees were to still be employed over a twelve month period.  He used objective factors that were readily available in most HR Systems across hundreds of companies and millions of data observations. I used his algorithm and replicated the findings at my company with similar results.\n",
    "\n",
    "In this study, I wanted to go small scale. Are there any factors available in common Staffing and headcount reports that are good predictors of turnover.  I pulled two headcount reports:  One on the first day of the year and one on the last day of the year.  I merged the two datasets together to see who was still with the company at the end of the reporting period and who left sometime between the first and the last of the year.  This data is also commonly used to calculate Retention metrics (not to be confused with Turnover metrics, which are entirely different).\n",
    "\n",
    "For this study, I chose to run use Logistic regression given my outcome variable (Active or Termed at end of period) is binary.  My independent variable or factors are a mix of binary and continues variables.\n",
    "\n"
   ]
  },
  {
   "cell_type": "code",
   "execution_count": 33,
   "metadata": {},
   "outputs": [
    {
     "name": "stderr",
     "output_type": "stream",
     "text": [
      "Installing package into 'C:/Users/David/Documents/R/win-library/3.4'\n",
      "(as 'lib' is unspecified)\n"
     ]
    },
    {
     "name": "stdout",
     "output_type": "stream",
     "text": [
      "package 'AER' successfully unpacked and MD5 sums checked\n",
      "\n",
      "The downloaded binary packages are in\n",
      "\tC:\\Users\\David\\AppData\\Local\\Temp\\RtmpYpY1Yv\\downloaded_packages\n"
     ]
    }
   ],
   "source": [
    " install.packages(\"AER\")"
   ]
  },
  {
   "cell_type": "markdown",
   "metadata": {},
   "source": [
    "## Data\n",
    "Two reports were run to build the data for this analysis.  A **Time One** Report and a **Time Two** Report.  The Time One data was pulled at the beginning of the year (e.g., January 1).  The Time Two data was pulled at the end of the year (e.g., December 31).  The two datasets were merged and all data wrangling were handled using MS Excel (*I know*) and exported to a .csv file for import.  \n",
    "\n",
    "Below diplays the factors used in this analysis.  All of these factors are readily available as it or easily computed from common HR or Staffing reports.  \n",
    "\n",
    "### Factors\n",
    "- Terminated:  0 = Still active at the end of the period, 1 = Not active at the end of the period\n",
    "- MgrChurn:  0 = Same manager at the end of the period as they employee had at the beginning of the period, 1 = Different Manager\n",
    "- Gender:  0 = Male, 1 = Female\n",
    "- Minority:  0 = White, 1 = Minority (includes a few not-specified)\n",
    "- Flsa Type:  0 = Salary, 1 = Hourly\n",
    "- Seniority:  How long the employee had been with the company at the beginning of the period (in years)\n",
    "- Age: The age of the employee at the beginning of the period."
   ]
  },
  {
   "cell_type": "code",
   "execution_count": 40,
   "metadata": {},
   "outputs": [
    {
     "data": {
      "text/html": [
       "<table>\n",
       "<thead><tr><th scope=col>terminated</th><th scope=col>mgrChurn</th><th scope=col>gender</th><th scope=col>minority</th><th scope=col>flsaType</th><th scope=col>seniority</th><th scope=col>age</th></tr></thead>\n",
       "<tbody>\n",
       "\t<tr><td>0    </td><td>1    </td><td>1    </td><td>1    </td><td>0    </td><td> 6.99</td><td>54.9 </td></tr>\n",
       "\t<tr><td>0    </td><td>1    </td><td>0    </td><td>1    </td><td>0    </td><td> 2.37</td><td>58.5 </td></tr>\n",
       "\t<tr><td>0    </td><td>1    </td><td>0    </td><td>1    </td><td>0    </td><td> 9.18</td><td>47.6 </td></tr>\n",
       "\t<tr><td>0    </td><td>1    </td><td>0    </td><td>1    </td><td>0    </td><td> 0.49</td><td>57.2 </td></tr>\n",
       "\t<tr><td>0    </td><td>0    </td><td>1    </td><td>1    </td><td>0    </td><td> 2.97</td><td>37.6 </td></tr>\n",
       "\t<tr><td>0    </td><td>0    </td><td>1    </td><td>1    </td><td>0    </td><td>11.84</td><td>61.3 </td></tr>\n",
       "</tbody>\n",
       "</table>\n"
      ],
      "text/latex": [
       "\\begin{tabular}{r|lllllll}\n",
       " terminated & mgrChurn & gender & minority & flsaType & seniority & age\\\\\n",
       "\\hline\n",
       "\t 0     & 1     & 1     & 1     & 0     &  6.99 & 54.9 \\\\\n",
       "\t 0     & 1     & 0     & 1     & 0     &  2.37 & 58.5 \\\\\n",
       "\t 0     & 1     & 0     & 1     & 0     &  9.18 & 47.6 \\\\\n",
       "\t 0     & 1     & 0     & 1     & 0     &  0.49 & 57.2 \\\\\n",
       "\t 0     & 0     & 1     & 1     & 0     &  2.97 & 37.6 \\\\\n",
       "\t 0     & 0     & 1     & 1     & 0     & 11.84 & 61.3 \\\\\n",
       "\\end{tabular}\n"
      ],
      "text/markdown": [
       "\n",
       "terminated | mgrChurn | gender | minority | flsaType | seniority | age | \n",
       "|---|---|---|---|---|---|\n",
       "| 0     | 1     | 1     | 1     | 0     |  6.99 | 54.9  | \n",
       "| 0     | 1     | 0     | 1     | 0     |  2.37 | 58.5  | \n",
       "| 0     | 1     | 0     | 1     | 0     |  9.18 | 47.6  | \n",
       "| 0     | 1     | 0     | 1     | 0     |  0.49 | 57.2  | \n",
       "| 0     | 0     | 1     | 1     | 0     |  2.97 | 37.6  | \n",
       "| 0     | 0     | 1     | 1     | 0     | 11.84 | 61.3  | \n",
       "\n",
       "\n"
      ],
      "text/plain": [
       "  terminated mgrChurn gender minority flsaType seniority age \n",
       "1 0          1        1      1        0         6.99     54.9\n",
       "2 0          1        0      1        0         2.37     58.5\n",
       "3 0          1        0      1        0         9.18     47.6\n",
       "4 0          1        0      1        0         0.49     57.2\n",
       "5 0          0        1      1        0         2.97     37.6\n",
       "6 0          0        1      1        0        11.84     61.3"
      ]
     },
     "metadata": {},
     "output_type": "display_data"
    }
   ],
   "source": [
    "mydata <- read.csv(\"2017_logistic_turnover.csv\")\n",
    "head(mydata)"
   ]
  },
  {
   "cell_type": "code",
   "execution_count": 35,
   "metadata": {},
   "outputs": [
    {
     "data": {
      "text/plain": [
       "   terminated        mgrChurn          gender          minority     \n",
       " Min.   :0.0000   Min.   :0.0000   Min.   :0.0000   Min.   :0.0000  \n",
       " 1st Qu.:0.0000   1st Qu.:0.0000   1st Qu.:0.0000   1st Qu.:0.0000  \n",
       " Median :0.0000   Median :0.0000   Median :1.0000   Median :0.0000  \n",
       " Mean   :0.2527   Mean   :0.3381   Mean   :0.5558   Mean   :0.4964  \n",
       " 3rd Qu.:1.0000   3rd Qu.:1.0000   3rd Qu.:1.0000   3rd Qu.:1.0000  \n",
       " Max.   :1.0000   Max.   :1.0000   Max.   :1.0000   Max.   :1.0000  \n",
       "    flsaType       seniority           age       \n",
       " Min.   :0.000   Min.   :-0.910   Min.   :18.80  \n",
       " 1st Qu.:0.000   1st Qu.: 0.530   1st Qu.:33.00  \n",
       " Median :1.000   Median : 1.450   Median :40.70  \n",
       " Mean   :0.706   Mean   : 2.371   Mean   :41.56  \n",
       " 3rd Qu.:1.000   3rd Qu.: 2.990   3rd Qu.:49.50  \n",
       " Max.   :1.000   Max.   :24.430   Max.   :77.40  "
      ]
     },
     "metadata": {},
     "output_type": "display_data"
    }
   ],
   "source": [
    "summary(mydata)"
   ]
  },
  {
   "cell_type": "markdown",
   "metadata": {},
   "source": [
    "## Summary Statistics\n",
    "The dataset used in this analysis contains 3,197 employees that were active at the beginning of the reporting period.  Twenty-five percent of the employees were not present at the end of the period, resulting in a 75% retention rate.\n",
    "\n",
    "Below is a quick summary of the percentages for the factors used in this analysis:\n",
    "- Manager Churn:  34% of employees had a different manager at the end of the period\n",
    "- Gender:  56% female\n",
    "- Minority:  50% one or more minority status\n",
    "- FlsaType:  71% non-exempt or hourly\n",
    "- Seniority:  Average tenure is almost 2.5 years\n",
    "- Age:  Average age is almost 42 years\n",
    "\n",
    "Knowing this dataset, these summary statistics look right which gives me confidence my data wrangling in MS Excel didn't contain many errors."
   ]
  },
  {
   "cell_type": "markdown",
   "metadata": {},
   "source": [
    "# Analysis\n",
    " Given the structure of the data, logistic regression will be used to identify if there are any significant factors available in the data set.\n",
    "\n"
   ]
  },
  {
   "cell_type": "code",
   "execution_count": 41,
   "metadata": {},
   "outputs": [
    {
     "data": {
      "text/plain": [
       "\n",
       "Call:\n",
       "glm(formula = terminated ~ mgrChurn + gender + minority + flsaType + \n",
       "    seniority + age, family = binomial, data = mydata)\n",
       "\n",
       "Deviance Residuals: \n",
       "   Min      1Q  Median      3Q     Max  \n",
       "-1.155  -0.830  -0.677   1.285   2.954  \n",
       "\n",
       "Coefficients:\n",
       "             Estimate Std. Error z value Pr(>|z|)    \n",
       "(Intercept) -0.987259   0.203656  -4.848 1.25e-06 ***\n",
       "mgrChurn    -0.379165   0.091063  -4.164 3.13e-05 ***\n",
       "gender      -0.089616   0.085808  -1.044   0.2963    \n",
       "minority     0.021180   0.086214   0.246   0.8059    \n",
       "flsaType     0.242110   0.101980   2.374   0.0176 *  \n",
       "seniority   -0.263916   0.026545  -9.942  < 2e-16 ***\n",
       "age          0.009446   0.003924   2.407   0.0161 *  \n",
       "---\n",
       "Signif. codes:  0 '***' 0.001 '**' 0.01 '*' 0.05 '.' 0.1 ' ' 1\n",
       "\n",
       "(Dispersion parameter for binomial family taken to be 1)\n",
       "\n",
       "    Null deviance: 3614.7  on 3196  degrees of freedom\n",
       "Residual deviance: 3427.8  on 3190  degrees of freedom\n",
       "AIC: 3441.8\n",
       "\n",
       "Number of Fisher Scoring iterations: 5\n"
      ]
     },
     "metadata": {},
     "output_type": "display_data"
    }
   ],
   "source": [
    "# Build regression model \n",
    "fit.full <- glm(terminated ~ mgrChurn + gender + minority + flsaType + seniority + age, data = mydata, family=binomial)\n",
    "summary(fit.full)"
   ]
  },
  {
   "cell_type": "markdown",
   "metadata": {},
   "source": [
    "Signifant p-values for the regression coefficients in the full model include:  Manager Churn, Seniority, FLSA Type, and Age.  A reduced model including only those factors will be run next."
   ]
  },
  {
   "cell_type": "code",
   "execution_count": 24,
   "metadata": {},
   "outputs": [
    {
     "data": {
      "text/plain": [
       "\n",
       "Call:\n",
       "glm(formula = terminated ~ mgrChurn + seniority + flsaType + \n",
       "    age, family = binomial, data = mydata)\n",
       "\n",
       "Deviance Residuals: \n",
       "    Min       1Q   Median       3Q      Max  \n",
       "-1.1737  -0.8312  -0.6824   1.3010   2.9395  \n",
       "\n",
       "Coefficients:\n",
       "             Estimate Std. Error z value Pr(>|z|)    \n",
       "(Intercept) -1.009288   0.195113  -5.173 2.31e-07 ***\n",
       "mgrChurn    -0.379466   0.091012  -4.169 3.05e-05 ***\n",
       "seniority   -0.263938   0.026495  -9.962  < 2e-16 ***\n",
       "flsaType     0.230274   0.100349   2.295   0.0217 *  \n",
       "age          0.009251   0.003883   2.382   0.0172 *  \n",
       "---\n",
       "Signif. codes:  0 '***' 0.001 '**' 0.01 '*' 0.05 '.' 0.1 ' ' 1\n",
       "\n",
       "(Dispersion parameter for binomial family taken to be 1)\n",
       "\n",
       "    Null deviance: 3614.7  on 3196  degrees of freedom\n",
       "Residual deviance: 3428.9  on 3192  degrees of freedom\n",
       "AIC: 3438.9\n",
       "\n",
       "Number of Fisher Scoring iterations: 5\n"
      ]
     },
     "metadata": {},
     "output_type": "display_data"
    }
   ],
   "source": [
    "fit.reduced <- glm(terminated ~ mgrChurn + seniority + flsaType + age, data = mydata, family=binomial)\n",
    "summary(fit.reduced)"
   ]
  },
  {
   "cell_type": "markdown",
   "metadata": {},
   "source": [
    "The following code allows one to compare the full model to the reduced model.  A non-significant Chi Square value indicates the reduced model predicts just as well as the full model."
   ]
  },
  {
   "cell_type": "code",
   "execution_count": 25,
   "metadata": {},
   "outputs": [
    {
     "data": {
      "text/html": [
       "<table>\n",
       "<thead><tr><th scope=col>Resid. Df</th><th scope=col>Resid. Dev</th><th scope=col>Df</th><th scope=col>Deviance</th><th scope=col>Pr(&gt;Chi)</th></tr></thead>\n",
       "<tbody>\n",
       "\t<tr><td>3192     </td><td>3428.926 </td><td>NA       </td><td>      NA </td><td>       NA</td></tr>\n",
       "\t<tr><td>3190     </td><td>3427.828 </td><td> 2       </td><td>1.098016 </td><td>0.5775225</td></tr>\n",
       "</tbody>\n",
       "</table>\n"
      ],
      "text/latex": [
       "\\begin{tabular}{r|lllll}\n",
       " Resid. Df & Resid. Dev & Df & Deviance & Pr(>Chi)\\\\\n",
       "\\hline\n",
       "\t 3192      & 3428.926  & NA        &       NA  &        NA\\\\\n",
       "\t 3190      & 3427.828  &  2        & 1.098016  & 0.5775225\\\\\n",
       "\\end{tabular}\n"
      ],
      "text/markdown": [
       "\n",
       "Resid. Df | Resid. Dev | Df | Deviance | Pr(>Chi) | \n",
       "|---|---|\n",
       "| 3192      | 3428.926  | NA        |       NA  |        NA | \n",
       "| 3190      | 3427.828  |  2        | 1.098016  | 0.5775225 | \n",
       "\n",
       "\n"
      ],
      "text/plain": [
       "  Resid. Df Resid. Dev Df Deviance Pr(>Chi) \n",
       "1 3192      3428.926   NA       NA        NA\n",
       "2 3190      3427.828    2 1.098016 0.5775225"
      ]
     },
     "metadata": {},
     "output_type": "display_data"
    }
   ],
   "source": [
    "anova(fit.reduced, fit.full, test = \"Chisq\")"
   ]
  },
  {
   "cell_type": "code",
   "execution_count": 26,
   "metadata": {},
   "outputs": [
    {
     "data": {
      "text/html": [
       "<dl class=dl-horizontal>\n",
       "\t<dt>(Intercept)</dt>\n",
       "\t\t<dd>-1.00928750683643</dd>\n",
       "\t<dt>mgrChurn</dt>\n",
       "\t\t<dd>-0.379465563135202</dd>\n",
       "\t<dt>seniority</dt>\n",
       "\t\t<dd>-0.263937995859444</dd>\n",
       "\t<dt>flsaType</dt>\n",
       "\t\t<dd>0.230274307089726</dd>\n",
       "\t<dt>age</dt>\n",
       "\t\t<dd>0.00925056107009843</dd>\n",
       "</dl>\n"
      ],
      "text/latex": [
       "\\begin{description*}\n",
       "\\item[(Intercept)] -1.00928750683643\n",
       "\\item[mgrChurn] -0.379465563135202\n",
       "\\item[seniority] -0.263937995859444\n",
       "\\item[flsaType] 0.230274307089726\n",
       "\\item[age] 0.00925056107009843\n",
       "\\end{description*}\n"
      ],
      "text/markdown": [
       "(Intercept)\n",
       ":   -1.00928750683643mgrChurn\n",
       ":   -0.379465563135202seniority\n",
       ":   -0.263937995859444flsaType\n",
       ":   0.230274307089726age\n",
       ":   0.00925056107009843\n",
       "\n"
      ],
      "text/plain": [
       " (Intercept)     mgrChurn    seniority     flsaType          age \n",
       "-1.009287507 -0.379465563 -0.263937996  0.230274307  0.009250561 "
      ]
     },
     "metadata": {},
     "output_type": "display_data"
    }
   ],
   "source": [
    "# Calculating Regression coefficients\n",
    "coef(fit.reduced)"
   ]
  },
  {
   "cell_type": "code",
   "execution_count": 27,
   "metadata": {},
   "outputs": [
    {
     "data": {
      "text/html": [
       "<dl class=dl-horizontal>\n",
       "\t<dt>(Intercept)</dt>\n",
       "\t\t<dd>0.364478575573716</dd>\n",
       "\t<dt>mgrChurn</dt>\n",
       "\t\t<dd>0.684226987640445</dd>\n",
       "\t<dt>seniority</dt>\n",
       "\t\t<dd>0.768021158672275</dd>\n",
       "\t<dt>flsaType</dt>\n",
       "\t\t<dd>1.25894530019095</dd>\n",
       "\t<dt>age</dt>\n",
       "\t\t<dd>1.00929347974869</dd>\n",
       "</dl>\n"
      ],
      "text/latex": [
       "\\begin{description*}\n",
       "\\item[(Intercept)] 0.364478575573716\n",
       "\\item[mgrChurn] 0.684226987640445\n",
       "\\item[seniority] 0.768021158672275\n",
       "\\item[flsaType] 1.25894530019095\n",
       "\\item[age] 1.00929347974869\n",
       "\\end{description*}\n"
      ],
      "text/markdown": [
       "(Intercept)\n",
       ":   0.364478575573716mgrChurn\n",
       ":   0.684226987640445seniority\n",
       ":   0.768021158672275flsaType\n",
       ":   1.25894530019095age\n",
       ":   1.00929347974869\n",
       "\n"
      ],
      "text/plain": [
       "(Intercept)    mgrChurn   seniority    flsaType         age \n",
       "  0.3644786   0.6842270   0.7680212   1.2589453   1.0092935 "
      ]
     },
     "metadata": {},
     "output_type": "display_data"
    }
   ],
   "source": [
    "# Exponating log(odds) to make them easier to intrepret\n",
    "exp(coef(fit.reduced))"
   ]
  },
  {
   "cell_type": "markdown",
   "metadata": {},
   "source": [
    "# Results\n"
   ]
  },
  {
   "cell_type": "markdown",
   "metadata": {},
   "source": [
    "Although I'm not an expert at logistic regression (and Robert Kabacoff's book really helped me out), the Exponated Log(odds) make sense to me.  The best predictor in the equation is Manager Churn.  At first, I thought I coded this one incorrectly.  I would have thought that employees would be more likely to leave a company if they had a lot of different managers during the period.  However, that is not what is being measured here.  This factor is just that the employee ended the period with a different manager than they started with at the beginning of the period.  This factor could be a proxy for internal movement, promotion, transfer.  That is, people that are doing well are more likely to transfer and as a result, would be more likely to stay with the company.  Seniority turns out to be an important factor too.  The longer someone has been employed with the company, the more likely they will stay.\n",
    "\n",
    "FLSA status, or whether an employee is hourly or salary is also an important factor.  Hourly employees are more likely to leave during the period than salary employees.  Given salary jobs tend to pay more and have more responsibility, the direction of this factor makes sense.  Finally, Age does seem to contribute to the model, however in my opinion only slightly.  Older workers are less likely to still be with the company at the end of the period, but at 1.009, only slightly.  Maybe statistically significant, but probably not meaningful.  At least not for this dataset.\n",
    "\n",
    "So there you have it.  You can gain some insight to who will still be employee twelve months from now just from some basic, everyday Staffing data."
   ]
  },
  {
   "cell_type": "code",
   "execution_count": null,
   "metadata": {},
   "outputs": [],
   "source": []
  }
 ],
 "metadata": {
  "kernelspec": {
   "display_name": "R",
   "language": "R",
   "name": "ir"
  },
  "language_info": {
   "codemirror_mode": "r",
   "file_extension": ".r",
   "mimetype": "text/x-r-source",
   "name": "R",
   "pygments_lexer": "r",
   "version": "3.4.3"
  }
 },
 "nbformat": 4,
 "nbformat_minor": 2
}
