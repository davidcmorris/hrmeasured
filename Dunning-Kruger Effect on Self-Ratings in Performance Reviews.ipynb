{
 "cells": [
  {
   "cell_type": "markdown",
   "metadata": {},
   "source": [
    "# Dunning-Kruger Effect on Self-Ratings in Performance Reviews"
   ]
  },
  {
   "cell_type": "markdown",
   "metadata": {},
   "source": [
    "## Introduction"
   ]
  },
  {
   "cell_type": "markdown",
   "metadata": {},
   "source": [
    "The [Dunning-Kruger effect](https://en.wikipedia.org/wiki/Dunning%E2%80%93Kruger_effect) is a cognitive bias where low performers tend to overestimate their ability to perform a given task while high performers tend to underestimate it.  This study attempts to replicate the Dunning-Kruger effect using data collected during annual performance reviews.\n",
    "\n",
    "The dataset used in this study contains a list of paired ratings by the employee and their manager across a set of competencies.  If the Dunning-Kruger effect is present, we would expect to see higher self-ratings for lower performing employees (as rated by their manager) and lower self-ratings for higher performing employees.\n"
   ]
  },
  {
   "cell_type": "markdown",
   "metadata": {},
   "source": [
    "## Data Exploration"
   ]
  },
  {
   "cell_type": "markdown",
   "metadata": {},
   "source": [
    "First, let's load the libaries we'll need for the analysis."
   ]
  },
  {
   "cell_type": "code",
   "execution_count": 6,
   "metadata": {},
   "outputs": [],
   "source": [
    "library(dplyr)"
   ]
  },
  {
   "cell_type": "markdown",
   "metadata": {},
   "source": [
    "Next, let's upload the data and take a look it the first few rows."
   ]
  },
  {
   "cell_type": "code",
   "execution_count": 2,
   "metadata": {},
   "outputs": [],
   "source": [
    "df = read.csv(\"20180418_perf_dun_krug.csv\", header = TRUE)"
   ]
  },
  {
   "cell_type": "code",
   "execution_count": 9,
   "metadata": {},
   "outputs": [
    {
     "data": {
      "text/html": [
       "<ol class=list-inline>\n",
       "\t<li>34620</li>\n",
       "\t<li>2</li>\n",
       "</ol>\n"
      ],
      "text/latex": [
       "\\begin{enumerate*}\n",
       "\\item 34620\n",
       "\\item 2\n",
       "\\end{enumerate*}\n"
      ],
      "text/markdown": [
       "1. 34620\n",
       "2. 2\n",
       "\n",
       "\n"
      ],
      "text/plain": [
       "[1] 34620     2"
      ]
     },
     "metadata": {},
     "output_type": "display_data"
    },
    {
     "data": {
      "text/html": [
       "<table>\n",
       "<thead><tr><th scope=col>self_rating</th><th scope=col>mgr_rating</th></tr></thead>\n",
       "<tbody>\n",
       "\t<tr><td>4</td><td>3</td></tr>\n",
       "\t<tr><td>3</td><td>3</td></tr>\n",
       "\t<tr><td>3</td><td>5</td></tr>\n",
       "\t<tr><td>4</td><td>3</td></tr>\n",
       "\t<tr><td>4</td><td>3</td></tr>\n",
       "\t<tr><td>3</td><td>4</td></tr>\n",
       "</tbody>\n",
       "</table>\n"
      ],
      "text/latex": [
       "\\begin{tabular}{r|ll}\n",
       " self\\_rating & mgr\\_rating\\\\\n",
       "\\hline\n",
       "\t 4 & 3\\\\\n",
       "\t 3 & 3\\\\\n",
       "\t 3 & 5\\\\\n",
       "\t 4 & 3\\\\\n",
       "\t 4 & 3\\\\\n",
       "\t 3 & 4\\\\\n",
       "\\end{tabular}\n"
      ],
      "text/markdown": [
       "\n",
       "self_rating | mgr_rating | \n",
       "|---|---|---|---|---|---|\n",
       "| 4 | 3 | \n",
       "| 3 | 3 | \n",
       "| 3 | 5 | \n",
       "| 4 | 3 | \n",
       "| 4 | 3 | \n",
       "| 3 | 4 | \n",
       "\n",
       "\n"
      ],
      "text/plain": [
       "  self_rating mgr_rating\n",
       "1 4           3         \n",
       "2 3           3         \n",
       "3 3           5         \n",
       "4 4           3         \n",
       "5 4           3         \n",
       "6 3           4         "
      ]
     },
     "metadata": {},
     "output_type": "display_data"
    }
   ],
   "source": [
    "dim(df)\n",
    "head(df)"
   ]
  },
  {
   "cell_type": "markdown",
   "metadata": {},
   "source": [
    "There are 34,620 rows and two variables in the dataset:\n",
    "- self_rating: The ratings employees gave themselves on a scale from 1 to 5 with 1 being the lowest possible rating and 5 being the highest.\n",
    "- mgr_rating:  The corresponding ratings given by the manager using the same scale."
   ]
  },
  {
   "cell_type": "markdown",
   "metadata": {},
   "source": [
    "Now, let's group self-ratings by manager rating and calculate averages and counts."
   ]
  },
  {
   "cell_type": "markdown",
   "metadata": {},
   "source": [
    "## Data Analysis"
   ]
  },
  {
   "cell_type": "code",
   "execution_count": 10,
   "metadata": {},
   "outputs": [
    {
     "data": {
      "text/html": [
       "<table>\n",
       "<thead><tr><th scope=col>mgr_rating</th><th scope=col>self_rating</th><th scope=col>n</th></tr></thead>\n",
       "<tbody>\n",
       "\t<tr><td>1       </td><td>3.841584</td><td>  101   </td></tr>\n",
       "\t<tr><td>2       </td><td>3.537005</td><td> 1162   </td></tr>\n",
       "\t<tr><td>3       </td><td>3.739833</td><td>12565   </td></tr>\n",
       "\t<tr><td>4       </td><td>4.107425</td><td>15825   </td></tr>\n",
       "\t<tr><td>5       </td><td>4.595128</td><td> 4967   </td></tr>\n",
       "</tbody>\n",
       "</table>\n"
      ],
      "text/latex": [
       "\\begin{tabular}{r|lll}\n",
       " mgr\\_rating & self\\_rating & n\\\\\n",
       "\\hline\n",
       "\t 1        & 3.841584 &   101   \\\\\n",
       "\t 2        & 3.537005 &  1162   \\\\\n",
       "\t 3        & 3.739833 & 12565   \\\\\n",
       "\t 4        & 4.107425 & 15825   \\\\\n",
       "\t 5        & 4.595128 &  4967   \\\\\n",
       "\\end{tabular}\n"
      ],
      "text/markdown": [
       "\n",
       "mgr_rating | self_rating | n | \n",
       "|---|---|---|---|---|\n",
       "| 1        | 3.841584 |   101    | \n",
       "| 2        | 3.537005 |  1162    | \n",
       "| 3        | 3.739833 | 12565    | \n",
       "| 4        | 4.107425 | 15825    | \n",
       "| 5        | 4.595128 |  4967    | \n",
       "\n",
       "\n"
      ],
      "text/plain": [
       "  mgr_rating self_rating n    \n",
       "1 1          3.841584      101\n",
       "2 2          3.537005     1162\n",
       "3 3          3.739833    12565\n",
       "4 4          4.107425    15825\n",
       "5 5          4.595128     4967"
      ]
     },
     "metadata": {},
     "output_type": "display_data"
    }
   ],
   "source": [
    "df_ratings <- tbl_df(df)\n",
    "df_ratings %>%\n",
    "  group_by(mgr_rating) %>%\n",
    "  summarise(self_rating = mean(self_rating), n = n())"
   ]
  },
  {
   "cell_type": "markdown",
   "metadata": {},
   "source": [
    "## Data Visualization"
   ]
  },
  {
   "cell_type": "markdown",
   "metadata": {},
   "source": [
    "Let's plot the data too.  Note:  I cannot figure out how to plot the data directly from the dataframe and not have it come out 'chunky', so I'm going to build a new dataset by hand."
   ]
  },
  {
   "cell_type": "code",
   "execution_count": 19,
   "metadata": {},
   "outputs": [],
   "source": [
    "df2 <- data.frame(mgr_rating = 1:5,\n",
    "                self_rating = c(3.84, 3.53, 3.73, 4.11, 4.60))"
   ]
  },
  {
   "cell_type": "code",
   "execution_count": 22,
   "metadata": {},
   "outputs": [
    {
     "data": {},
     "metadata": {},
     "output_type": "display_data"
    },
    {
     "data": {
      "image/png": "[encoded data removed]",
      "text/plain": [
       "plot without title"
      ]
     },
     "metadata": {},
     "output_type": "display_data"
    }
   ],
   "source": [
    "library(ggplot2)\n",
    "# Basic line plot with points\n",
    "ggplot(data=df2, aes(x=mgr_rating, y=self_rating, xlab = \"Manager Rating\", ylab = \"Self Rating\")) +\n",
    "  geom_line()+\n",
    "  geom_point() +\n",
    "ylim(3.5, 4.75)"
   ]
  },
  {
   "cell_type": "markdown",
   "metadata": {},
   "source": [
    "# Results"
   ]
  },
  {
   "cell_type": "markdown",
   "metadata": {},
   "source": [
    "The Dunning-Kruger effect is present in the above data.  As a reminder, The Dunning-Kruger effect is a cognitive bias where low performers tend to overestimate their ability to perform a given task while high performers tend to underestimate it.\n",
    "\n",
    "Regarding low performers - 101 employees with the lowest possible rating of \"1\" rated themselves on average 3.84.  This is higher then the next two groups (2 and 3) with average self-ratings of 3.54 and 3.74 respectively (Overestimate).\n",
    "\n",
    "Regarding high performers - 4,967 employees with the highest possible rating of \"5\" rated themselves slightly lower at 4.60 on average (Underestimate)."
   ]
  }
 ],
 "metadata": {
  "kernelspec": {
   "display_name": "R",
   "language": "R",
   "name": "ir"
  },
  "language_info": {
   "codemirror_mode": "r",
   "file_extension": ".r",
   "mimetype": "text/x-r-source",
   "name": "R",
   "pygments_lexer": "r",
   "version": "3.4.3"
  }
 },
 "nbformat": 4,
 "nbformat_minor": 2
}
