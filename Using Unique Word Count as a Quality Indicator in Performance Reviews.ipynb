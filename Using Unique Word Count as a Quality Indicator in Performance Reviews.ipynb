{
 "cells": [
  {
   "cell_type": "markdown",
   "metadata": {},
   "source": [
    "# Introduction\n",
    "Performance reviews generate a lot of textual data that takes a long time to read through and process.  Most performance review software have limited features to process content that are mainly centered around helping with translations and sentiment (use of positive and negatively charged words).  This study attempts to develop a quality metric that HR Professionals can use to quickly identify 'good' performance reviews from 'bad' reviews that have been written by managers.\n",
    "\n",
    "The inspiration behind this study came from a podcast.  On the podcast, This is Criminal, Phoebe Judge interviewed Forensic Psychologist Andy Morgan about different law enforcement tactics used to tell whether or not a suspect was telling the whole truth and nothing but the truth.  To quote what appears on the podcast cover art:\n",
    "\n",
    "> For nearly a century we've been trying to read someone's truthfulness by the way they act - through machine, or our own intuition.  The police, the FBI and the CIA have tried. But the fact is...most of those efforts just don't work.\n",
    "\n",
    "What Andy did find that worked was counting the number of unique words a suspect used during the interview or interrogation process.  In an experiment, he interviewed 1,200 people and asked them to tell him about the last concert they attended.  Half of the subjects were told to make up a story, the other half were told to tell the truth.  In over 85% of the cases, those who told the truth used more ***unique*** words than those who were told to lie.\n",
    "\n",
    "The goal of the study is to see if **unique word count** is more strongly correlated with manager performance than **total word count**.  That is, do better performing managers as rated by his or her superior, tend to use more unique words when writing performance reviews for their direct reports (TRUTH)."
   ]
  },
  {
   "cell_type": "markdown",
   "metadata": {},
   "source": [
    "# Methods\n",
    "NOTE:  The data used in this study were built outside of R.  Performance review data were downloaded from an HRIS system and recoded in the format below.  An MS Excel plug-in was used to calculate word counts and unique word counts on the data.  Several attempts were taken to do this work using R and natural language processing.  I just couldn't figure out how to get the results back into a dataframe in order to run the analyses I wished to perform on the data."
   ]
  },
  {
   "cell_type": "markdown",
   "metadata": {},
   "source": [
    "# Data\n",
    "The dataframe contain 264 rows and 4 columns of data.  Each row contains performance review data on one employee:\n",
    "- **mgrRating** - This is the manager's own performance rating, provided by his or her manager and not the employee's performance rating.\n",
    "- **totalWordCount** - The total number of words the employee used when writing their self-assessment.\n",
    "- **uniqueWordCount** - The total number of unique words the employee used when writing their self-assessment.\n",
    "- **reviewCount** - This is the total number of reviews an employee's supervisor or manager was responsible for completing including theirs."
   ]
  },
  {
   "cell_type": "code",
   "execution_count": 2,
   "metadata": {},
   "outputs": [
    {
     "name": "stderr",
     "output_type": "stream",
     "text": [
      "Warning message:\n",
      "\"package 'ppcor' was built under R version 3.4.4\"Loading required package: MASS\n"
     ]
    }
   ],
   "source": [
    "library(ppcor)"
   ]
  },
  {
   "cell_type": "code",
   "execution_count": 3,
   "metadata": {},
   "outputs": [
    {
     "data": {
      "text/html": [
       "<table>\n",
       "<thead><tr><th scope=col>mgrRating</th><th scope=col>totalWordCount</th><th scope=col>uniqueWordCount</th><th scope=col>reviewCount</th></tr></thead>\n",
       "<tbody>\n",
       "\t<tr><td>4.00</td><td>1422</td><td> 510</td><td> 5  </td></tr>\n",
       "\t<tr><td>3.67</td><td>1111</td><td> 432</td><td> 2  </td></tr>\n",
       "\t<tr><td>4.00</td><td>4381</td><td> 946</td><td>20  </td></tr>\n",
       "\t<tr><td>4.00</td><td> 532</td><td> 225</td><td> 2  </td></tr>\n",
       "\t<tr><td>4.00</td><td>5214</td><td>1090</td><td> 8  </td></tr>\n",
       "\t<tr><td>3.33</td><td>2203</td><td> 597</td><td> 5  </td></tr>\n",
       "</tbody>\n",
       "</table>\n"
      ],
      "text/latex": [
       "\\begin{tabular}{r|llll}\n",
       " mgrRating & totalWordCount & uniqueWordCount & reviewCount\\\\\n",
       "\\hline\n",
       "\t 4.00 & 1422 &  510 &  5  \\\\\n",
       "\t 3.67 & 1111 &  432 &  2  \\\\\n",
       "\t 4.00 & 4381 &  946 & 20  \\\\\n",
       "\t 4.00 &  532 &  225 &  2  \\\\\n",
       "\t 4.00 & 5214 & 1090 &  8  \\\\\n",
       "\t 3.33 & 2203 &  597 &  5  \\\\\n",
       "\\end{tabular}\n"
      ],
      "text/markdown": [
       "\n",
       "mgrRating | totalWordCount | uniqueWordCount | reviewCount | \n",
       "|---|---|---|---|---|---|\n",
       "| 4.00 | 1422 |  510 |  5   | \n",
       "| 3.67 | 1111 |  432 |  2   | \n",
       "| 4.00 | 4381 |  946 | 20   | \n",
       "| 4.00 |  532 |  225 |  2   | \n",
       "| 4.00 | 5214 | 1090 |  8   | \n",
       "| 3.33 | 2203 |  597 |  5   | \n",
       "\n",
       "\n"
      ],
      "text/plain": [
       "  mgrRating totalWordCount uniqueWordCount reviewCount\n",
       "1 4.00      1422            510             5         \n",
       "2 3.67      1111            432             2         \n",
       "3 4.00      4381            946            20         \n",
       "4 4.00       532            225             2         \n",
       "5 4.00      5214           1090             8         \n",
       "6 3.33      2203            597             5         "
      ]
     },
     "metadata": {},
     "output_type": "display_data"
    }
   ],
   "source": [
    "mydata <- read.csv(\"pearson_uniqueWordCount.csv\")\n",
    "head(mydata)"
   ]
  },
  {
   "cell_type": "markdown",
   "metadata": {},
   "source": [
    "# Summary Statistics"
   ]
  },
  {
   "cell_type": "code",
   "execution_count": 8,
   "metadata": {},
   "outputs": [
    {
     "data": {
      "text/plain": [
       "   mgrRating     totalWordCount    uniqueWordCount   reviewCount    \n",
       " Min.   :2.000   Min.   :   70.0   Min.   :  50.0   Min.   : 1.000  \n",
       " 1st Qu.:3.330   1st Qu.:  748.2   1st Qu.: 316.8   1st Qu.: 3.000  \n",
       " Median :3.830   Median : 1461.0   Median : 473.5   Median : 5.000  \n",
       " Mean   :3.758   Mean   : 1900.9   Mean   : 517.3   Mean   : 6.027  \n",
       " 3rd Qu.:4.170   3rd Qu.: 2599.8   3rd Qu.: 668.0   3rd Qu.: 8.000  \n",
       " Max.   :5.000   Max.   :10401.0   Max.   :1608.0   Max.   :20.000  "
      ]
     },
     "metadata": {},
     "output_type": "display_data"
    }
   ],
   "source": [
    "summary(mydata)"
   ]
  },
  {
   "cell_type": "markdown",
   "metadata": {},
   "source": [
    "# Statistical Tests\n",
    "Four tests will be performed:\n",
    "- Correlation between Manager's own performance rating and Total Word Count (Baseline)\n",
    "- Correlation between Manager's own performance rating and Unique Word Count\n",
    "- Partial Correlation between Manager's own performance rating and Total Word Count while controlling for the number of performance reviews a manager completed\n",
    "- Partial Correlation between Manager Ratings and Unique Word Count while controlling for the number of performance reviews a manager completed\n",
    "\n",
    "Partial correlations were planned because it is thought that quality (as measured by unique word count) might suffer as the total number of reviews a mananager has too complete increases."
   ]
  },
  {
   "cell_type": "code",
   "execution_count": 4,
   "metadata": {},
   "outputs": [
    {
     "data": {
      "text/html": [
       "0.0324150065711213"
      ],
      "text/latex": [
       "0.0324150065711213"
      ],
      "text/markdown": [
       "0.0324150065711213"
      ],
      "text/plain": [
       "[1] 0.03241501"
      ]
     },
     "metadata": {},
     "output_type": "display_data"
    }
   ],
   "source": [
    "cor(mydata$mgrRating, mydata$totalWordCount)"
   ]
  },
  {
   "cell_type": "code",
   "execution_count": 5,
   "metadata": {},
   "outputs": [
    {
     "data": {
      "text/html": [
       "0.0707383457412014"
      ],
      "text/latex": [
       "0.0707383457412014"
      ],
      "text/markdown": [
       "0.0707383457412014"
      ],
      "text/plain": [
       "[1] 0.07073835"
      ]
     },
     "metadata": {},
     "output_type": "display_data"
    }
   ],
   "source": [
    "cor(mydata$mgrRating, mydata$uniqueWordCount)"
   ]
  },
  {
   "cell_type": "code",
   "execution_count": 6,
   "metadata": {},
   "outputs": [
    {
     "data": {
      "text/html": [
       "<table>\n",
       "<thead><tr><th scope=col>estimate</th><th scope=col>p.value</th><th scope=col>statistic</th><th scope=col>n</th><th scope=col>gp</th><th scope=col>Method</th></tr></thead>\n",
       "<tbody>\n",
       "\t<tr><td>0.04946345</td><td>0.4243887 </td><td>0.8000858 </td><td>264       </td><td>1         </td><td>pearson   </td></tr>\n",
       "</tbody>\n",
       "</table>\n"
      ],
      "text/latex": [
       "\\begin{tabular}{r|llllll}\n",
       " estimate & p.value & statistic & n & gp & Method\\\\\n",
       "\\hline\n",
       "\t 0.04946345 & 0.4243887  & 0.8000858  & 264        & 1          & pearson   \\\\\n",
       "\\end{tabular}\n"
      ],
      "text/markdown": [
       "\n",
       "estimate | p.value | statistic | n | gp | Method | \n",
       "|---|\n",
       "| 0.04946345 | 0.4243887  | 0.8000858  | 264        | 1          | pearson    | \n",
       "\n",
       "\n"
      ],
      "text/plain": [
       "  estimate   p.value   statistic n   gp Method \n",
       "1 0.04946345 0.4243887 0.8000858 264 1  pearson"
      ]
     },
     "metadata": {},
     "output_type": "display_data"
    }
   ],
   "source": [
    "pcor.test(x=mydata$mgrRating, y=mydata$totalWordCount, z=mydata$reviewCount)"
   ]
  },
  {
   "cell_type": "code",
   "execution_count": 7,
   "metadata": {},
   "outputs": [
    {
     "data": {
      "text/html": [
       "<table>\n",
       "<thead><tr><th scope=col>estimate</th><th scope=col>p.value</th><th scope=col>statistic</th><th scope=col>n</th><th scope=col>gp</th><th scope=col>Method</th></tr></thead>\n",
       "<tbody>\n",
       "\t<tr><td>0.09782476</td><td>0.1134916 </td><td>1.588024  </td><td>264       </td><td>1         </td><td>pearson   </td></tr>\n",
       "</tbody>\n",
       "</table>\n"
      ],
      "text/latex": [
       "\\begin{tabular}{r|llllll}\n",
       " estimate & p.value & statistic & n & gp & Method\\\\\n",
       "\\hline\n",
       "\t 0.09782476 & 0.1134916  & 1.588024   & 264        & 1          & pearson   \\\\\n",
       "\\end{tabular}\n"
      ],
      "text/markdown": [
       "\n",
       "estimate | p.value | statistic | n | gp | Method | \n",
       "|---|\n",
       "| 0.09782476 | 0.1134916  | 1.588024   | 264        | 1          | pearson    | \n",
       "\n",
       "\n"
      ],
      "text/plain": [
       "  estimate   p.value   statistic n   gp Method \n",
       "1 0.09782476 0.1134916 1.588024  264 1  pearson"
      ]
     },
     "metadata": {},
     "output_type": "display_data"
    }
   ],
   "source": [
    "pcor.test(x=mydata$mgrRating, y=mydata$uniqueWordCount, z=mydata$reviewCount)"
   ]
  },
  {
   "cell_type": "markdown",
   "metadata": {},
   "source": [
    "# Results and Discussion\n",
    "None of the correlations we tested were statistically significant.  However, they are pointed in the right direction.  The correlation between Manager Performance and Unique Word Count is 54% greater than Total Word Count (.07 vs. .03).  Controlling for the number of performance reviews a manager had to write, bumps the correlation almost up to .10.\n",
    "\n",
    "While not a smoking gun, the results do seem promising.  A next step would be to look for other 'quality' outcome measures to test unique word count against in performance reviews.  One suggested for future research would be to have trained reviewers rate the quality of the reviews and then correlate unique word count against it."
   ]
  }
 ],
 "metadata": {
  "kernelspec": {
   "display_name": "R",
   "language": "R",
   "name": "ir"
  },
  "language_info": {
   "codemirror_mode": "r",
   "file_extension": ".r",
   "mimetype": "text/x-r-source",
   "name": "R",
   "pygments_lexer": "r",
   "version": "3.4.3"
  }
 },
 "nbformat": 4,
 "nbformat_minor": 2
}
