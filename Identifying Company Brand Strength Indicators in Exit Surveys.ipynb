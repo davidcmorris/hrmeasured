{
 "cells": [
  {
   "cell_type": "markdown",
   "metadata": {},
   "source": [
    "# Introduction\n",
    "Company brand strength is important to a company's recruitment efforts.  Companies with high brand strength are able to attract and hire a greater number of qualified candidates more quickly than a competitor with lower brand strength.  The current study looks as using exit survey data to identify potential leading indicators for company brand strength.  Specifically, it looks at four items measuring common supervisory behaviors and how they influence a person's likelihood to work for the company again in the future as well as recommend the company as a place to work."
   ]
  },
  {
   "cell_type": "markdown",
   "metadata": {},
   "source": [
    "# Survey Measures\n",
    "The exit survey contains two outcome items:\n",
    "- How likely are you to recommend the company as a place to work.\n",
    "- If given the opportunity in the future, how likely are you to consider returning to the company.\n",
    "\n",
    "The exit survey contains four input items:\n",
    "- My supervisor set clear expectations.\n",
    "- My supervisor provided me with timely feedback.\n",
    "- My supervisor recognized me when I do a good job.\n",
    "- My supervisor cared for me as a person."
   ]
  },
  {
   "cell_type": "markdown",
   "metadata": {},
   "source": [
    "# Response Scales\n",
    "Two 5-pt Likert scale were used used in the survey:\n",
    "- Likelihood (Outcome measures)\n",
    "- Agreement (Supervisor behaviors)\n",
    "\n",
    "### Likelihood Response Options\n",
    "- 5 - Very Likely  \n",
    "- 4 - Likely  \n",
    "- 3 - Neutral   \n",
    "- 2 - Unlikely  \n",
    "- 1 - Very Unlikely  \n",
    "\n",
    "### Agreement Response Options\n",
    "- 5 - Strongly Agree  \n",
    "- 4 - Agree  \n",
    "- 3 - Neutral  \n",
    "- 2 - Disagree  \n",
    "- 1 - Strongly Disagree  \n"
   ]
  },
  {
   "cell_type": "markdown",
   "metadata": {},
   "source": [
    "# Summary Statistics"
   ]
  },
  {
   "cell_type": "code",
   "execution_count": 39,
   "metadata": {},
   "outputs": [
    {
     "data": {
      "text/html": [
       "<table>\n",
       "<thead><tr><th scope=col>recommendCompany</th><th scope=col>returnToCompany</th><th scope=col>supvExpectations</th><th scope=col>supvFeedback</th><th scope=col>supvRecognition</th><th scope=col>supvCared</th><th scope=col>emplGender</th></tr></thead>\n",
       "<tbody>\n",
       "\t<tr><td>2     </td><td>4     </td><td>4     </td><td>4     </td><td>4     </td><td>4     </td><td>Female</td></tr>\n",
       "\t<tr><td>2     </td><td>4     </td><td>4     </td><td>4     </td><td>4     </td><td>4     </td><td>Male  </td></tr>\n",
       "\t<tr><td>3     </td><td>4     </td><td>4     </td><td>4     </td><td>4     </td><td>4     </td><td>Female</td></tr>\n",
       "\t<tr><td>3     </td><td>4     </td><td>4     </td><td>4     </td><td>4     </td><td>4     </td><td>Female</td></tr>\n",
       "\t<tr><td>3     </td><td>4     </td><td>4     </td><td>4     </td><td>4     </td><td>4     </td><td>Male  </td></tr>\n",
       "\t<tr><td>4     </td><td>4     </td><td>4     </td><td>4     </td><td>4     </td><td>4     </td><td>Female</td></tr>\n",
       "</tbody>\n",
       "</table>\n"
      ],
      "text/latex": [
       "\\begin{tabular}{r|lllllll}\n",
       " recommendCompany & returnToCompany & supvExpectations & supvFeedback & supvRecognition & supvCared & emplGender\\\\\n",
       "\\hline\n",
       "\t 2      & 4      & 4      & 4      & 4      & 4      & Female\\\\\n",
       "\t 2      & 4      & 4      & 4      & 4      & 4      & Male  \\\\\n",
       "\t 3      & 4      & 4      & 4      & 4      & 4      & Female\\\\\n",
       "\t 3      & 4      & 4      & 4      & 4      & 4      & Female\\\\\n",
       "\t 3      & 4      & 4      & 4      & 4      & 4      & Male  \\\\\n",
       "\t 4      & 4      & 4      & 4      & 4      & 4      & Female\\\\\n",
       "\\end{tabular}\n"
      ],
      "text/markdown": [
       "\n",
       "recommendCompany | returnToCompany | supvExpectations | supvFeedback | supvRecognition | supvCared | emplGender | \n",
       "|---|---|---|---|---|---|\n",
       "| 2      | 4      | 4      | 4      | 4      | 4      | Female | \n",
       "| 2      | 4      | 4      | 4      | 4      | 4      | Male   | \n",
       "| 3      | 4      | 4      | 4      | 4      | 4      | Female | \n",
       "| 3      | 4      | 4      | 4      | 4      | 4      | Female | \n",
       "| 3      | 4      | 4      | 4      | 4      | 4      | Male   | \n",
       "| 4      | 4      | 4      | 4      | 4      | 4      | Female | \n",
       "\n",
       "\n"
      ],
      "text/plain": [
       "  recommendCompany returnToCompany supvExpectations supvFeedback\n",
       "1 2                4               4                4           \n",
       "2 2                4               4                4           \n",
       "3 3                4               4                4           \n",
       "4 3                4               4                4           \n",
       "5 3                4               4                4           \n",
       "6 4                4               4                4           \n",
       "  supvRecognition supvCared emplGender\n",
       "1 4               4         Female    \n",
       "2 4               4         Male      \n",
       "3 4               4         Female    \n",
       "4 4               4         Female    \n",
       "5 4               4         Male      \n",
       "6 4               4         Female    "
      ]
     },
     "metadata": {},
     "output_type": "display_data"
    },
    {
     "name": "stdout",
     "output_type": "stream",
     "text": [
      "Number of Exit Survey Respondents:  825"
     ]
    }
   ],
   "source": [
    "mydata <- read.csv(\"rwa_exit.csv\")\n",
    "head(mydata)\n",
    "cat(\"Number of Exit Survey Respondents: \",nrow(mydata))"
   ]
  },
  {
   "cell_type": "code",
   "execution_count": 40,
   "metadata": {},
   "outputs": [
    {
     "data": {
      "text/plain": [
       " recommendCompany returnToCompany supvExpectations  supvFeedback  \n",
       " Min.   :1.000    Min.   :1.000   Min.   :1.000    Min.   :1.000  \n",
       " 1st Qu.:2.000    1st Qu.:2.000   1st Qu.:2.000    1st Qu.:2.000  \n",
       " Median :3.000    Median :3.000   Median :4.000    Median :4.000  \n",
       " Mean   :3.132    Mean   :3.095   Mean   :3.528    Mean   :3.436  \n",
       " 3rd Qu.:5.000    3rd Qu.:4.000   3rd Qu.:5.000    3rd Qu.:5.000  \n",
       " Max.   :5.000    Max.   :5.000   Max.   :5.000    Max.   :5.000  \n",
       " supvRecognition   supvCared      emplGender \n",
       " Min.   :1.000   Min.   :1.000   Female:460  \n",
       " 1st Qu.:3.000   1st Qu.:2.000   Male  :365  \n",
       " Median :4.000   Median :4.000               \n",
       " Mean   :3.487   Mean   :3.441               \n",
       " 3rd Qu.:5.000   3rd Qu.:5.000               \n",
       " Max.   :5.000   Max.   :5.000               "
      ]
     },
     "metadata": {},
     "output_type": "display_data"
    }
   ],
   "source": [
    "summary(mydata)"
   ]
  },
  {
   "cell_type": "markdown",
   "metadata": {},
   "source": [
    "# Relative Weights Analysis\n",
    "\n",
    "Relative Weights Analysis (RWA) can be used to find out which of the four supervisor behavior items are the most important in predicting how likely exited employees are to return to the company or how likely they are to recommend the company to others."
   ]
  },
  {
   "cell_type": "code",
   "execution_count": 41,
   "metadata": {},
   "outputs": [],
   "source": [
    "# Code taken from page 209-211 in Robert I. Kabacoff book, R In Action:  Data analysis and graphics with R\n",
    "# Creating two functions, one for \"Return to Company\" and one for \"Recommend Company\"\n",
    "# This is the function for \"Return to Company\"\n",
    "relweights1 <- function(fit,...){\n",
    "  R <- cor(fit$model)\n",
    "  nvar <- ncol (R)\n",
    "  rxx <- R[2:nvar, 2:nvar]\n",
    "  rxy <- R[2:nvar, 1]\n",
    "  svd <- eigen(rxx)\n",
    "  evec <- svd$vectors\n",
    "  ev <- svd$values\n",
    "  delta <- diag(sqrt(ev))\n",
    "  lambda <- evec %*% delta %*% t(evec)\n",
    "  lambdasq <- lambda ^ 2\n",
    "  beta <- solve(lambda) %*% rxy\n",
    "  rsquare <- colSums(beta ^ 2)\n",
    "  rawwgt <- lambdasq %*% beta ^ 2\n",
    "  import <- (rawwgt/rsquare) * 100\n",
    "  import <- as.data.frame(import)\n",
    "  row.names(import) <- names(fit$model [2:nvar])\n",
    "  names(import) <- \"Weights\"\n",
    "  import <- import[order(import), 1, drop = FALSE]\n",
    "  dotchart(import$Weights, labels=row.names(import),\n",
    "           xlab=\"% of R-Square\", pch=19,\n",
    "           main=\"Return to Company\",\n",
    "           sub=paste(\"Total R-Square=\", round(rsquare, digits=3)),\n",
    "           ...)\n",
    "  return(import)\n",
    "}"
   ]
  },
  {
   "cell_type": "code",
   "execution_count": 42,
   "metadata": {},
   "outputs": [],
   "source": [
    "# Code taken from page 209-211 in Robert I. Kabacoff book, R In Action:  Data analysis and graphics with R\n",
    "# Creating two functions, one for \"Return to Company\" and one for \"Recommend Company\"\n",
    "# This is the function for \"Recommend Company\"\n",
    "relweights2 <- function(fit,...){\n",
    "  R <- cor(fit$model)\n",
    "  nvar <- ncol (R)\n",
    "  rxx <- R[2:nvar, 2:nvar]\n",
    "  rxy <- R[2:nvar, 1]\n",
    "  svd <- eigen(rxx)\n",
    "  evec <- svd$vectors\n",
    "  ev <- svd$values\n",
    "  delta <- diag(sqrt(ev))\n",
    "  lambda <- evec %*% delta %*% t(evec)\n",
    "  lambdasq <- lambda ^ 2\n",
    "  beta <- solve(lambda) %*% rxy\n",
    "  rsquare <- colSums(beta ^ 2)\n",
    "  rawwgt <- lambdasq %*% beta ^ 2\n",
    "  import <- (rawwgt/rsquare) * 100\n",
    "  import <- as.data.frame(import)\n",
    "  row.names(import) <- names(fit$model [2:nvar])\n",
    "  names(import) <- \"Weights\"\n",
    "  import <- import[order(import), 1, drop = FALSE]\n",
    "  dotchart(import$Weights, labels=row.names(import),\n",
    "           xlab=\"% of R-Square\", pch=19,\n",
    "           main=\"Recommend Company to Others\",\n",
    "           sub=paste(\"Total R-Square=\", round(rsquare, digits=3)),\n",
    "           ...)\n",
    "  return(import)\n",
    "}"
   ]
  },
  {
   "cell_type": "code",
   "execution_count": 43,
   "metadata": {
    "scrolled": false
   },
   "outputs": [
    {
     "data": {
      "text/html": [
       "<table>\n",
       "<thead><tr><th></th><th scope=col>Weights</th></tr></thead>\n",
       "<tbody>\n",
       "\t<tr><th scope=row>supvCared</th><td>23.25739</td></tr>\n",
       "\t<tr><th scope=row>supvRecognition</th><td>24.75304</td></tr>\n",
       "\t<tr><th scope=row>supvFeedback</th><td>25.51281</td></tr>\n",
       "\t<tr><th scope=row>supvExpectations</th><td>26.47676</td></tr>\n",
       "</tbody>\n",
       "</table>\n"
      ],
      "text/latex": [
       "\\begin{tabular}{r|l}\n",
       "  & Weights\\\\\n",
       "\\hline\n",
       "\tsupvCared & 23.25739\\\\\n",
       "\tsupvRecognition & 24.75304\\\\\n",
       "\tsupvFeedback & 25.51281\\\\\n",
       "\tsupvExpectations & 26.47676\\\\\n",
       "\\end{tabular}\n"
      ],
      "text/markdown": [
       "\n",
       "| <!--/--> | Weights | \n",
       "|---|---|---|---|\n",
       "| supvCared | 23.25739 | \n",
       "| supvRecognition | 24.75304 | \n",
       "| supvFeedback | 25.51281 | \n",
       "| supvExpectations | 26.47676 | \n",
       "\n",
       "\n"
      ],
      "text/plain": [
       "                 Weights \n",
       "supvCared        23.25739\n",
       "supvRecognition  24.75304\n",
       "supvFeedback     25.51281\n",
       "supvExpectations 26.47676"
      ]
     },
     "metadata": {},
     "output_type": "display_data"
    },
    {
     "data": {
      "image/png": "[encoded data removed]",
      "text/plain": [
       "Plot with title \"Return to Company\""
      ]
     },
     "metadata": {},
     "output_type": "display_data"
    }
   ],
   "source": [
    "# Code taken from page 209-211 in Robert I. Kabacoff book, R In Action:  Data analysis and graphics with R\n",
    "# Fitting the regression equation\n",
    "fit1 <- lm(returnToCompany ~ supvExpectations + supvFeedback + supvRecognition + supvCared, data=mydata)\n",
    "relweights1(fit1, col=\"blue\")"
   ]
  },
  {
   "cell_type": "code",
   "execution_count": 44,
   "metadata": {},
   "outputs": [
    {
     "data": {
      "text/html": [
       "<table>\n",
       "<thead><tr><th></th><th scope=col>Weights</th></tr></thead>\n",
       "<tbody>\n",
       "\t<tr><th scope=row>supvRecognition</th><td>20.33389</td></tr>\n",
       "\t<tr><th scope=row>supvCared</th><td>24.55446</td></tr>\n",
       "\t<tr><th scope=row>supvExpectations</th><td>27.15154</td></tr>\n",
       "\t<tr><th scope=row>supvFeedback</th><td>27.96011</td></tr>\n",
       "</tbody>\n",
       "</table>\n"
      ],
      "text/latex": [
       "\\begin{tabular}{r|l}\n",
       "  & Weights\\\\\n",
       "\\hline\n",
       "\tsupvRecognition & 20.33389\\\\\n",
       "\tsupvCared & 24.55446\\\\\n",
       "\tsupvExpectations & 27.15154\\\\\n",
       "\tsupvFeedback & 27.96011\\\\\n",
       "\\end{tabular}\n"
      ],
      "text/markdown": [
       "\n",
       "| <!--/--> | Weights | \n",
       "|---|---|---|---|\n",
       "| supvRecognition | 20.33389 | \n",
       "| supvCared | 24.55446 | \n",
       "| supvExpectations | 27.15154 | \n",
       "| supvFeedback | 27.96011 | \n",
       "\n",
       "\n"
      ],
      "text/plain": [
       "                 Weights \n",
       "supvRecognition  20.33389\n",
       "supvCared        24.55446\n",
       "supvExpectations 27.15154\n",
       "supvFeedback     27.96011"
      ]
     },
     "metadata": {},
     "output_type": "display_data"
    },
    {
     "data": {
      "image/png": "[encoded data removed]",
      "text/plain": [
       "Plot with title \"Recommend Company to Others\""
      ]
     },
     "metadata": {},
     "output_type": "display_data"
    }
   ],
   "source": [
    "# Code taken from page 209-211 in Robert I. Kabacoff book, R In Action:  Data analysis and graphics with R\n",
    "# Fitting the regression equation\n",
    "fit2 <- lm(recommendCompany ~ supvExpectations + supvFeedback + supvRecognition + supvCared, data=mydata)\n",
    "relweights2(fit2, col=\"red\")"
   ]
  },
  {
   "cell_type": "markdown",
   "metadata": {},
   "source": [
    "# Results\n",
    "The RWA results suggest the four supervisor items do a better job at predicting how likely exit survey respondents would \"Recommend\" over \"Return\".  Total R-Square for \"Recommend\" is .36 compared to .276 for \"Return\".\n",
    "\n",
    "The two items that accounted for the highest percent of R-Square for both outcome items were \"My supervisor set clear expectations\", and \"My supervisor provided me with timely feedback\".\n"
   ]
  },
  {
   "cell_type": "markdown",
   "metadata": {},
   "source": [
    "# Discussion\n",
    "Results look promising.  Total R-Square for both outcome items similar to what is found using RWA with engagement survey data and active employees.  One of the more interesting findings in this study is that the Total R-Square is higher for the item, \"I would recommend this company to others\" rather than, \"If given the opportunity in the future, how likely are you to consider returning to the company.\"  A company that focuses on developing managers to provide timely feedback and clear expectations to its employees, may just receive more positive ratings by exited employees on sites like Glassdoor.  This may give a company a slight advantage over a competitor especially in a tight labor market."
   ]
  }
 ],
 "metadata": {
  "kernelspec": {
   "display_name": "R",
   "language": "R",
   "name": "ir"
  },
  "language_info": {
   "codemirror_mode": "r",
   "file_extension": ".r",
   "mimetype": "text/x-r-source",
   "name": "R",
   "pygments_lexer": "r",
   "version": "3.4.3"
  }
 },
 "nbformat": 4,
 "nbformat_minor": 2
}
