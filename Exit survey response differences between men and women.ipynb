{
 "cells": [
  {
   "cell_type": "markdown",
   "metadata": {},
   "source": [
    "# Introduction\n",
    "This project looks at mean score differences between men and women on two outcome measures from employee exit survey responses.  The two outcome measures are:\n",
    "- How likely are you to recommend the Company as a place to work?  \n",
    "- If given the opportunity in the future, how likely are you to consider returning to the Company?\n",
    "\n",
    "When analyzing data from previous employee engagement surveys, differences between gender have been found for 'values-type' items.  That is, items that seem to tap into individual values (e.g., Protect the Environment, Fast Track Career Growth Opportunity) where women tend to rate the former as being more important when choosing to work for a company compared to men who tend to rate the latter as being more important.\n",
    "\n",
    "Meaningful differences between men in women in recommending their past company as a place to work to others or considering returning to work for a company again could provide insight to how companies design their messaging around recruitment and marketing efforts."
   ]
  },
  {
   "cell_type": "code",
   "execution_count": 49,
   "metadata": {},
   "outputs": [],
   "source": [
    "import numpy as np\n",
    "import pandas as pd\n",
    "import seaborn as sns\n",
    "from scipy.stats import ttest_ind"
   ]
  },
  {
   "cell_type": "code",
   "execution_count": 7,
   "metadata": {},
   "outputs": [],
   "source": [
    "mydata = pd.read_csv(\"ttest_exit.csv\")"
   ]
  },
  {
   "cell_type": "code",
   "execution_count": 8,
   "metadata": {
    "scrolled": true
   },
   "outputs": [
    {
     "data": {
      "text/html": [
       "<div>\n",
       "<style scoped>\n",
       "    .dataframe tbody tr th:only-of-type {\n",
       "        vertical-align: middle;\n",
       "    }\n",
       "\n",
       "    .dataframe tbody tr th {\n",
       "        vertical-align: top;\n",
       "    }\n",
       "\n",
       "    .dataframe thead th {\n",
       "        text-align: right;\n",
       "    }\n",
       "</style>\n",
       "<table border=\"1\" class=\"dataframe\">\n",
       "  <thead>\n",
       "    <tr style=\"text-align: right;\">\n",
       "      <th></th>\n",
       "      <th>recommendCompany</th>\n",
       "      <th>returnToCompany</th>\n",
       "      <th>supvExpectations</th>\n",
       "      <th>supvFeedback</th>\n",
       "      <th>supvRecognition</th>\n",
       "      <th>supvCared</th>\n",
       "      <th>emplGender</th>\n",
       "    </tr>\n",
       "  </thead>\n",
       "  <tbody>\n",
       "    <tr>\n",
       "      <th>0</th>\n",
       "      <td>2</td>\n",
       "      <td>4</td>\n",
       "      <td>4</td>\n",
       "      <td>4</td>\n",
       "      <td>4</td>\n",
       "      <td>4</td>\n",
       "      <td>Female</td>\n",
       "    </tr>\n",
       "    <tr>\n",
       "      <th>1</th>\n",
       "      <td>2</td>\n",
       "      <td>4</td>\n",
       "      <td>4</td>\n",
       "      <td>4</td>\n",
       "      <td>4</td>\n",
       "      <td>4</td>\n",
       "      <td>Male</td>\n",
       "    </tr>\n",
       "    <tr>\n",
       "      <th>2</th>\n",
       "      <td>3</td>\n",
       "      <td>4</td>\n",
       "      <td>4</td>\n",
       "      <td>4</td>\n",
       "      <td>4</td>\n",
       "      <td>4</td>\n",
       "      <td>Female</td>\n",
       "    </tr>\n",
       "    <tr>\n",
       "      <th>3</th>\n",
       "      <td>3</td>\n",
       "      <td>4</td>\n",
       "      <td>4</td>\n",
       "      <td>4</td>\n",
       "      <td>4</td>\n",
       "      <td>4</td>\n",
       "      <td>Female</td>\n",
       "    </tr>\n",
       "    <tr>\n",
       "      <th>4</th>\n",
       "      <td>3</td>\n",
       "      <td>4</td>\n",
       "      <td>4</td>\n",
       "      <td>4</td>\n",
       "      <td>4</td>\n",
       "      <td>4</td>\n",
       "      <td>Male</td>\n",
       "    </tr>\n",
       "  </tbody>\n",
       "</table>\n",
       "</div>"
      ],
      "text/plain": [
       "   recommendCompany  returnToCompany  supvExpectations  supvFeedback  \\\n",
       "0                 2                4                 4             4   \n",
       "1                 2                4                 4             4   \n",
       "2                 3                4                 4             4   \n",
       "3                 3                4                 4             4   \n",
       "4                 3                4                 4             4   \n",
       "\n",
       "   supvRecognition  supvCared emplGender  \n",
       "0                4          4     Female  \n",
       "1                4          4       Male  \n",
       "2                4          4     Female  \n",
       "3                4          4     Female  \n",
       "4                4          4       Male  "
      ]
     },
     "execution_count": 8,
     "metadata": {},
     "output_type": "execute_result"
    }
   ],
   "source": [
    "mydata.head()"
   ]
  },
  {
   "cell_type": "markdown",
   "metadata": {},
   "source": [
    "# Methodology\n",
    "The goal of the analysis is to compare differences between men and women, two independent sample t tests will be performed, one for each outcome variable."
   ]
  },
  {
   "cell_type": "markdown",
   "metadata": {},
   "source": [
    "### Summary Statistics"
   ]
  },
  {
   "cell_type": "code",
   "execution_count": 87,
   "metadata": {},
   "outputs": [
    {
     "data": {
      "text/html": [
       "<div>\n",
       "<style scoped>\n",
       "    .dataframe tbody tr th:only-of-type {\n",
       "        vertical-align: middle;\n",
       "    }\n",
       "\n",
       "    .dataframe tbody tr th {\n",
       "        vertical-align: top;\n",
       "    }\n",
       "\n",
       "    .dataframe thead tr th {\n",
       "        text-align: left;\n",
       "    }\n",
       "\n",
       "    .dataframe thead tr:last-of-type th {\n",
       "        text-align: right;\n",
       "    }\n",
       "</style>\n",
       "<table border=\"1\" class=\"dataframe\">\n",
       "  <thead>\n",
       "    <tr>\n",
       "      <th></th>\n",
       "      <th colspan=\"8\" halign=\"left\">recommendCompany</th>\n",
       "      <th colspan=\"2\" halign=\"left\">returnToCompany</th>\n",
       "      <th>...</th>\n",
       "      <th colspan=\"2\" halign=\"left\">supvFeedback</th>\n",
       "      <th colspan=\"8\" halign=\"left\">supvRecognition</th>\n",
       "    </tr>\n",
       "    <tr>\n",
       "      <th></th>\n",
       "      <th>count</th>\n",
       "      <th>mean</th>\n",
       "      <th>std</th>\n",
       "      <th>min</th>\n",
       "      <th>25%</th>\n",
       "      <th>50%</th>\n",
       "      <th>75%</th>\n",
       "      <th>max</th>\n",
       "      <th>count</th>\n",
       "      <th>mean</th>\n",
       "      <th>...</th>\n",
       "      <th>75%</th>\n",
       "      <th>max</th>\n",
       "      <th>count</th>\n",
       "      <th>mean</th>\n",
       "      <th>std</th>\n",
       "      <th>min</th>\n",
       "      <th>25%</th>\n",
       "      <th>50%</th>\n",
       "      <th>75%</th>\n",
       "      <th>max</th>\n",
       "    </tr>\n",
       "    <tr>\n",
       "      <th>emplGender</th>\n",
       "      <th></th>\n",
       "      <th></th>\n",
       "      <th></th>\n",
       "      <th></th>\n",
       "      <th></th>\n",
       "      <th></th>\n",
       "      <th></th>\n",
       "      <th></th>\n",
       "      <th></th>\n",
       "      <th></th>\n",
       "      <th></th>\n",
       "      <th></th>\n",
       "      <th></th>\n",
       "      <th></th>\n",
       "      <th></th>\n",
       "      <th></th>\n",
       "      <th></th>\n",
       "      <th></th>\n",
       "      <th></th>\n",
       "      <th></th>\n",
       "      <th></th>\n",
       "    </tr>\n",
       "  </thead>\n",
       "  <tbody>\n",
       "    <tr>\n",
       "      <th>Female</th>\n",
       "      <td>460.0</td>\n",
       "      <td>3.193478</td>\n",
       "      <td>1.499296</td>\n",
       "      <td>1.0</td>\n",
       "      <td>2.0</td>\n",
       "      <td>3.0</td>\n",
       "      <td>5.0</td>\n",
       "      <td>5.0</td>\n",
       "      <td>460.0</td>\n",
       "      <td>3.152174</td>\n",
       "      <td>...</td>\n",
       "      <td>5.0</td>\n",
       "      <td>5.0</td>\n",
       "      <td>460.0</td>\n",
       "      <td>3.478261</td>\n",
       "      <td>1.391526</td>\n",
       "      <td>1.0</td>\n",
       "      <td>3.0</td>\n",
       "      <td>4.0</td>\n",
       "      <td>5.0</td>\n",
       "      <td>5.0</td>\n",
       "    </tr>\n",
       "    <tr>\n",
       "      <th>Male</th>\n",
       "      <td>365.0</td>\n",
       "      <td>3.054795</td>\n",
       "      <td>1.464698</td>\n",
       "      <td>1.0</td>\n",
       "      <td>2.0</td>\n",
       "      <td>3.0</td>\n",
       "      <td>4.0</td>\n",
       "      <td>5.0</td>\n",
       "      <td>365.0</td>\n",
       "      <td>3.021918</td>\n",
       "      <td>...</td>\n",
       "      <td>5.0</td>\n",
       "      <td>5.0</td>\n",
       "      <td>365.0</td>\n",
       "      <td>3.498630</td>\n",
       "      <td>1.345780</td>\n",
       "      <td>1.0</td>\n",
       "      <td>3.0</td>\n",
       "      <td>4.0</td>\n",
       "      <td>5.0</td>\n",
       "      <td>5.0</td>\n",
       "    </tr>\n",
       "  </tbody>\n",
       "</table>\n",
       "<p>2 rows × 48 columns</p>\n",
       "</div>"
      ],
      "text/plain": [
       "           recommendCompany                                               \\\n",
       "                      count      mean       std  min  25%  50%  75%  max   \n",
       "emplGender                                                                 \n",
       "Female                460.0  3.193478  1.499296  1.0  2.0  3.0  5.0  5.0   \n",
       "Male                  365.0  3.054795  1.464698  1.0  2.0  3.0  4.0  5.0   \n",
       "\n",
       "           returnToCompany           ...  supvFeedback      supvRecognition  \\\n",
       "                     count      mean ...           75%  max           count   \n",
       "emplGender                           ...                                      \n",
       "Female               460.0  3.152174 ...           5.0  5.0           460.0   \n",
       "Male                 365.0  3.021918 ...           5.0  5.0           365.0   \n",
       "\n",
       "                                                         \n",
       "                mean       std  min  25%  50%  75%  max  \n",
       "emplGender                                               \n",
       "Female      3.478261  1.391526  1.0  3.0  4.0  5.0  5.0  \n",
       "Male        3.498630  1.345780  1.0  3.0  4.0  5.0  5.0  \n",
       "\n",
       "[2 rows x 48 columns]"
      ]
     },
     "execution_count": 87,
     "metadata": {},
     "output_type": "execute_result"
    }
   ],
   "source": [
    "# Can't figure out how to limit output to just the two output variables.  Will update when I figure it out.\n",
    "mydata.groupby('emplGender').describe()\n"
   ]
  },
  {
   "cell_type": "code",
   "execution_count": 85,
   "metadata": {
    "scrolled": true
   },
   "outputs": [
    {
     "data": {
      "text/html": [
       "<div>\n",
       "<style scoped>\n",
       "    .dataframe tbody tr th:only-of-type {\n",
       "        vertical-align: middle;\n",
       "    }\n",
       "\n",
       "    .dataframe tbody tr th {\n",
       "        vertical-align: top;\n",
       "    }\n",
       "\n",
       "    .dataframe thead th {\n",
       "        text-align: right;\n",
       "    }\n",
       "</style>\n",
       "<table border=\"1\" class=\"dataframe\">\n",
       "  <thead>\n",
       "    <tr style=\"text-align: right;\">\n",
       "      <th></th>\n",
       "      <th>recommendCompany</th>\n",
       "      <th>returnToCompany</th>\n",
       "      <th>supvExpectations</th>\n",
       "      <th>supvFeedback</th>\n",
       "      <th>supvRecognition</th>\n",
       "      <th>supvCared</th>\n",
       "    </tr>\n",
       "    <tr>\n",
       "      <th>emplGender</th>\n",
       "      <th></th>\n",
       "      <th></th>\n",
       "      <th></th>\n",
       "      <th></th>\n",
       "      <th></th>\n",
       "      <th></th>\n",
       "    </tr>\n",
       "  </thead>\n",
       "  <tbody>\n",
       "    <tr>\n",
       "      <th>Female</th>\n",
       "      <td>3.193478</td>\n",
       "      <td>3.152174</td>\n",
       "      <td>3.523913</td>\n",
       "      <td>3.443478</td>\n",
       "      <td>3.478261</td>\n",
       "      <td>3.428261</td>\n",
       "    </tr>\n",
       "    <tr>\n",
       "      <th>Male</th>\n",
       "      <td>3.054795</td>\n",
       "      <td>3.021918</td>\n",
       "      <td>3.534247</td>\n",
       "      <td>3.427397</td>\n",
       "      <td>3.498630</td>\n",
       "      <td>3.457534</td>\n",
       "    </tr>\n",
       "  </tbody>\n",
       "</table>\n",
       "</div>"
      ],
      "text/plain": [
       "            recommendCompany  returnToCompany  supvExpectations  supvFeedback  \\\n",
       "emplGender                                                                      \n",
       "Female              3.193478         3.152174          3.523913      3.443478   \n",
       "Male                3.054795         3.021918          3.534247      3.427397   \n",
       "\n",
       "            supvRecognition  supvCared  \n",
       "emplGender                              \n",
       "Female             3.478261   3.428261  \n",
       "Male               3.498630   3.457534  "
      ]
     },
     "execution_count": 85,
     "metadata": {},
     "output_type": "execute_result"
    }
   ],
   "source": [
    "mydata.groupby('emplGender').mean()"
   ]
  },
  {
   "cell_type": "markdown",
   "metadata": {},
   "source": [
    "### Data Visualization"
   ]
  },
  {
   "cell_type": "code",
   "execution_count": 59,
   "metadata": {},
   "outputs": [
    {
     "data": {
      "text/plain": [
       "<matplotlib.axes._subplots.AxesSubplot at 0x1fb24d0b8d0>"
      ]
     },
     "execution_count": 59,
     "metadata": {},
     "output_type": "execute_result"
    },
    {
     "data": {
      "image/png": "[encoded data removed]",
      "text/plain": [
       "<matplotlib.figure.Figure at 0x1fb243265f8>"
      ]
     },
     "metadata": {},
     "output_type": "display_data"
    }
   ],
   "source": [
    "sns.violinplot( x=mydata[\"emplGender\"], y=mydata[\"recommendCompany\"] )"
   ]
  },
  {
   "cell_type": "code",
   "execution_count": 56,
   "metadata": {},
   "outputs": [
    {
     "data": {
      "text/plain": [
       "<matplotlib.axes._subplots.AxesSubplot at 0x1fb2485eac8>"
      ]
     },
     "execution_count": 56,
     "metadata": {},
     "output_type": "execute_result"
    },
    {
     "data": {
      "image/png": "[encoded data removed]",
      "text/plain": [
       "<matplotlib.figure.Figure at 0x1fb24686f60>"
      ]
     },
     "metadata": {},
     "output_type": "display_data"
    }
   ],
   "source": [
    "sns.violinplot( x=mydata[\"emplGender\"], y=mydata[\"returnToCompany\"] )"
   ]
  },
  {
   "cell_type": "markdown",
   "metadata": {},
   "source": [
    "### Statistical Tests"
   ]
  },
  {
   "cell_type": "code",
   "execution_count": 18,
   "metadata": {},
   "outputs": [],
   "source": [
    "cat1 = mydata[mydata['emplGender']=='Female']\n",
    "cat2 = mydata[mydata['emplGender']=='Male']"
   ]
  },
  {
   "cell_type": "code",
   "execution_count": 19,
   "metadata": {},
   "outputs": [
    {
     "data": {
      "text/plain": [
       "Ttest_indResult(statistic=1.3330999791400457, pvalue=0.182867891312372)"
      ]
     },
     "execution_count": 19,
     "metadata": {},
     "output_type": "execute_result"
    }
   ],
   "source": [
    "ttest_ind(cat1['recommendCompany'], cat2['recommendCompany'])"
   ]
  },
  {
   "cell_type": "code",
   "execution_count": 20,
   "metadata": {},
   "outputs": [
    {
     "data": {
      "text/plain": [
       "Ttest_indResult(statistic=1.2553873339537758, pvalue=0.2096945039626873)"
      ]
     },
     "execution_count": 20,
     "metadata": {},
     "output_type": "execute_result"
    }
   ],
   "source": [
    "ttest_ind(cat1['returnToCompany'], cat2['returnToCompany'])"
   ]
  },
  {
   "cell_type": "markdown",
   "metadata": {},
   "source": [
    "# Results\n",
    "Data were analyzied on survey responses from 460 women and 365 men (n = 825).  On average, women score higher on both outcome measures.  However, t test results show that the mean differences are not statistically significant.  One point of interest is the mean differences between men and women are much smaller among the four supervisor behavior items (Expectations, Feedback, Recognition, and Caring) than they are between the two outcome measures (Recommend, Return).  Lastly, looking at the standard deviations and violin plots, women tend to use more of the 5-Point Likert scale on both outcome items than men do."
   ]
  },
  {
   "cell_type": "markdown",
   "metadata": {},
   "source": [
    "# Discussion\n",
    "Although the t test results are not significant, the data is clearly directional.  That is, women rated the two outcome variables higher than men did.  This would be less interesting if women tended to rate all the survey items higher, but they did not.  The mean differences between the supervisory behaviors where much closer between men and women.  This suggests that women may tend to regard companies they worked for in the past with more of an ***'open heart'*** compared to men.\n",
    "\n"
   ]
  },
  {
   "cell_type": "code",
   "execution_count": null,
   "metadata": {},
   "outputs": [],
   "source": []
  }
 ],
 "metadata": {
  "kernelspec": {
   "display_name": "Python 3",
   "language": "python",
   "name": "python3"
  },
  "language_info": {
   "codemirror_mode": {
    "name": "ipython",
    "version": 3
   },
   "file_extension": ".py",
   "mimetype": "text/x-python",
   "name": "python",
   "nbconvert_exporter": "python",
   "pygments_lexer": "ipython3",
   "version": "3.6.4"
  }
 },
 "nbformat": 4,
 "nbformat_minor": 2
}
